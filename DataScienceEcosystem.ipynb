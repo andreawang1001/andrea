{
 "cells": [
  {
   "cell_type": "markdown",
   "id": "f6677763",
   "metadata": {},
   "source": [
    "# Data Science Tools and Ecosystem\n"
   ]
  },
  {
   "cell_type": "markdown",
   "id": "bc049246",
   "metadata": {},
   "source": [
    "In this notebook, Data Science Tools and Ecosystem are summarized."
   ]
  },
  {
   "cell_type": "code",
   "execution_count": null,
   "id": "c1c84988",
   "metadata": {},
   "outputs": [],
   "source": [
    "Objectives:\n",
    "\n",
    "Python\n",
    "R\n",
    "SQL\n",
    "Java\n",
    "Julia\n",
    "Scala\n",
    "C/C++\n",
    "JavaScript\n",
    "Swift\n",
    "Go\n",
    "MATLAB"
   ]
  },
  {
   "cell_type": "markdown",
   "id": "3def3303",
   "metadata": {},
   "source": [
    "Some of the popular languages that Data Scientists use are:"
   ]
  },
  {
   "cell_type": "markdown",
   "id": "f3b85587",
   "metadata": {},
   "source": [
    "ordered list"
   ]
  },
  {
   "cell_type": "markdown",
   "id": "2ac4e9d1",
   "metadata": {},
   "source": [
    "java\n",
    "python\n",
    "sql"
   ]
  },
  {
   "cell_type": "markdown",
   "id": "696a1a45",
   "metadata": {},
   "source": [
    "Some of the commonly used libraries used by Data Scientists include:"
   ]
  },
  {
   "cell_type": "markdown",
   "id": "bf760bfb",
   "metadata": {},
   "source": [
    "ordered list \n",
    "NumPy.\n",
    "Keras.\n",
    "Pandas.\n",
    "PyTorch.\n",
    "SciPy.\n",
    "Scikit-Learn.\n",
    "TensorFlow.\n",
    "Matplotlib."
   ]
  },
  {
   "cell_type": "markdown",
   "id": "75d0c15d",
   "metadata": {},
   "source": [
    "# Data Science Tools"
   ]
  },
  {
   "cell_type": "markdown",
   "id": "4cfbd63e",
   "metadata": {},
   "source": [
    "RStudio.\n",
    "Apache Spark.\n",
    "TensorFlow.\n",
    "Apache Hadoop.\n",
    "RapidMiner."
   ]
  },
  {
   "cell_type": "markdown",
   "id": "376288cd",
   "metadata": {},
   "source": [
    "### Below are a few examples of evaluating arithmetic expressions in Python"
   ]
  },
  {
   "cell_type": "code",
   "execution_count": null,
   "id": "140ddefa",
   "metadata": {},
   "outputs": [],
   "source": [
    "#This a simple arithmetic expression to mutiply then add integers"
   ]
  },
  {
   "cell_type": "code",
   "execution_count": 4,
   "id": "5d974796",
   "metadata": {},
   "outputs": [
    {
     "data": {
      "text/plain": [
       "17"
      ]
     },
     "execution_count": 4,
     "metadata": {},
     "output_type": "execute_result"
    }
   ],
   "source": [
    "(3*4)+5"
   ]
  },
  {
   "cell_type": "code",
   "execution_count": null,
   "id": "d2bc1f3c",
   "metadata": {},
   "outputs": [],
   "source": [
    "#This will convert 200 minutes to hours by diving by 60"
   ]
  },
  {
   "cell_type": "code",
   "execution_count": 5,
   "id": "f2a7644a",
   "metadata": {},
   "outputs": [
    {
     "name": "stdout",
     "output_type": "stream",
     "text": [
      "3.3333333333333335\n"
     ]
    }
   ],
   "source": [
    "minutes = 200\n",
    "hours = minutes/60\n",
    "print(hours)"
   ]
  },
  {
   "cell_type": "markdown",
   "id": "bdb8cb92",
   "metadata": {},
   "source": [
    "## Author\n",
    "ANDREA W."
   ]
  }
 ],
 "metadata": {
  "kernelspec": {
   "display_name": "Python 3 (ipykernel)",
   "language": "python",
   "name": "python3"
  },
  "language_info": {
   "codemirror_mode": {
    "name": "ipython",
    "version": 3
   },
   "file_extension": ".py",
   "mimetype": "text/x-python",
   "name": "python",
   "nbconvert_exporter": "python",
   "pygments_lexer": "ipython3",
   "version": "3.9.13"
  }
 },
 "nbformat": 4,
 "nbformat_minor": 5
}
